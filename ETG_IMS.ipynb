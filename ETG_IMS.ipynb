{
  "nbformat": 4,
  "nbformat_minor": 0,
  "metadata": {
    "colab": {
      "name": "demo.ipynb",
      "provenance": [],
      "collapsed_sections": []
    },
    "kernelspec": {
      "name": "python3",
      "display_name": "Python 3"
    },
    "language_info": {
      "name": "python"
    }
  },
  "cells": [
    {
      "cell_type": "code",
      "metadata": {
        "id": "O5r2YSY4JLeb"
      },
      "source": [
        "record = {\n",
        "              1813001 : { \"P_name\" : \"Potato chips\" , \"P_price\" : 10 , \"P_category\" : \"Snacks\" , \"P_quantity\" : 30 ,  \"P_company\" : \"ajit bakery\" } ,\n",
        "              1813002 : { \"P_name\" : \"Kurkure\" ,      \"P_price\" : 10 , \"P_category\" : \"Snacks\" , \"P_quantity\" : 60 ,  \"P_company\" : \"ajit bakery\" }  ,\n",
        "              1813003 : { \"P_name\" : \"Chilli chips\" , \"P_price\" : 10 , \"P_category\" : \"Snacks\" , \"P_quantity\" : 40 ,  \"P_company\" : \"Balaji\"      }  ,\n",
        "              1813004 : { \"P_name\" : \"Bhujia sev \" ,  \"P_price\" : 10 , \"P_category\" : \"Snacks\" , \"P_quantity\" : 70 ,  \"P_company\" : \"ajit bakery\" }   ,\n",
        "              1813005 : { \"P_name\" : \"Moong Dal\" ,    \"P_price\" : 10 , \"P_category\" : \"Snacks\" , \"P_quantity\" : 100 , \"P_company\" : \"Haldirams   \"} ,\n",
        "              1813006 : { \"P_name\" : \"Soya stickes\" , \"P_price\" : 10 , \"P_category\" : \"Snacks\" , \"P_quantity\" : 90 ,  \"P_company\" : \"ajit bakery \"} ,\n",
        "              1813007 : { \"P_name\" : \"Bhel puri\" ,    \"P_price\" : 10 , \"P_category\" : \"Snacks\" , \"P_quantity\" : 10 ,  \"P_company\" : \"Balaji \"} ,\n",
        "              1813008 : { \"P_name\" : \"Sweet wonder\" , \"P_price\" : 30 , \"P_category\" : \"Snacks\" , \"P_quantity\" : 40 ,  \"P_company\" : \"Haldirams\"} ,\n",
        "              1813009 : { \"P_name\" : \"Mini samosa \" , \"P_price\" : 80 , \"P_category\" : \"Snacks\" , \"P_quantity\" : 60 ,  \"P_company\" : \"ajit bakery\" } ,\n",
        "              1813010 : { \"P_name\" : \"Banana chips\" , \"P_price\" : 10 , \"P_category\" : \"Snacks\" , \"P_quantity\" : 130 , \"P_company\" : \"Haldirams\"   } ,\n",
        "              1813011 : { \"P_name\" : \"Masala kaju\" ,  \"P_price\" : 30 , \"P_category\" : \"Snacks\" , \"P_quantity\" : 30 , \"P_company\" : \"Balaji\"   } ,\n",
        "              1813012 : { \"P_name\" : \"Chana choor\" ,  \"P_price\" : 10 , \"P_category\" : \"Snacks\" , \"P_quantity\" : 20 , \"P_company\" : \"Haldirams\"   } , \n",
        "              1813013 : { \"P_name\" : \"Chakali\" ,      \"P_price\" : 100 , \"P_category\" : \"Snacks\" , \"P_quantity\" : 10 , \"P_company\" : \"Haldirams\"  } ,\n",
        "              1813014 : { \"P_name\" : \"Gathiya\" ,      \"P_price\" : 120 , \"P_category\" : \"Snacks\" , \"P_quantity\" : 40 , \"P_company\" :\"Balaji \"   }  ,\n",
        "              1813015 : { \"P_name\" : \"Punjabi tadka \",\"P_price\" : 140 , \"P_category\" : \"Snacks\" , \"P_quantity\" : 70 , \"P_company\" : \"Haldirams\"   } ,\n",
        "              1813016 : { \"P_name\" : \"Kaju katli \" ,  \"P_price\" : 210 , \"P_category\" : \"Sweets\" , \"P_quantity\" : 20 , \"P_company\" : \"ajit bakery\"   } ,\n",
        "              1813017 : { \"P_name\" : \"Lemon bhel\" ,   \"P_price\" : 10 , \"P_category\" : \"Snacks\" , \"P_quantity\" : 10 , \"P_company\" : \"Balaji\"  } ,\n",
        "              1813018 : { \"P_name\" : \"Orange barfi\" , \"P_price\" : 410 , \"P_category\" : \"Sweets\" , \"P_quantity\" : 80 , \"P_company\" : \"Haldirams\" }  ,\n",
        "              1813019 : { \"P_name\" : \"Soam papdi\" ,   \"P_price\" : 110 , \"P_category\" : \"Sweets\" , \"P_quantity\" : 190 , \"P_company\" : \"Haldirams \"  } ,\n",
        "              1813020 : { \"P_name\" : \"Bharkarwadi\" ,  \"P_price\" : 10 , \"P_category\" : \"Snacks\" , \"P_quantity\" : 80 , \"P_company\" : \"Balaji\"   },\n",
        "              1813021 : { \"P_name\" : \"Matri\" ,        \"P_price\" : 90 , \"P_category\" : \"Sweets\" , \"P_quantity\" : 10 , \"P_company\" : \"Haldirams\"   } ,\n",
        "              1813022 : { \"P_name\" : \"Namkeen\" ,      \"P_price\" : 10 , \"P_category\" : \"Snacks\" , \"P_quantity\" : 20 , \"P_company\" : \"ajit bakery\" }}"
      ],
      "execution_count": 61,
      "outputs": []
    },
    {
      "cell_type": "code",
      "metadata": {
        "id": "rAuPwQ27--Ep"
      },
      "source": [
        "import json"
      ],
      "execution_count": 62,
      "outputs": []
    },
    {
      "cell_type": "code",
      "metadata": {
        "id": "EL909LXZBRSQ"
      },
      "source": [
        "js = json.dumps(record)"
      ],
      "execution_count": 63,
      "outputs": []
    },
    {
      "cell_type": "code",
      "metadata": {
        "id": "6CjTyytVBSAd"
      },
      "source": [
        "fd = open(\"record.json\" , 'a')\n",
        "fd.write(js)\n",
        "fd.close()"
      ],
      "execution_count": 64,
      "outputs": []
    },
    {
      "cell_type": "code",
      "metadata": {
        "id": "w_H7rACOBSr4"
      },
      "source": [
        "fd = open(\"record.json\" , 'r')\n",
        "txt = fd.read()\n",
        "fd.close()"
      ],
      "execution_count": 65,
      "outputs": []
    },
    {
      "cell_type": "code",
      "metadata": {
        "id": "b2UCNhMVABcB"
      },
      "source": [
        "record1 = json.loads(txt)"
      ],
      "execution_count": null,
      "outputs": []
    },
    {
      "cell_type": "code",
      "metadata": {
        "colab": {
          "base_uri": "https://localhost:8080/"
        },
        "id": "sxiV_n9oBTXx",
        "outputId": "8d609783-437c-4642-e23a-6125de15ec89"
      },
      "source": [
        "print ( \"**************************** WELCOME TO INVENTORY MANAGEMENT SYSTEM ****************************\\n\" )\n",
        "print (\" 1. ADMIN\\n 2. CUSTOMER\\n\" )\n",
        "A_C = int (input(\"Enter the choice \"))\n",
        "print(\"\\n\")\n",
        "\n",
        "if (A_C == 1):\n",
        "  print (\" 1. Display sells list\\n 2. Add new product\\n 3. Delete product\\n\")\n",
        "  A_A = int (input(\"Enter the choice \"))\n",
        "  print(\"\\n\")\n",
        " \n",
        "  if (A_A == 1):\n",
        "    (\"****** SELLS LIST  ******\\n\")\n",
        "    fdr = open(\"sell.json\" , 'r')\n",
        "    txt1 = fdr.read()\n",
        "    fdr.close()\n",
        "    print(txt1)\n",
        "\n",
        "  elif (A_A == 2): \n",
        "\n",
        "    print (\"****** ADDING NEW PRODUCT ******\\n\")\n",
        "    A_pid = input(\"Enter the product id \")\n",
        "    A_pname = input(\"Enter the product name \")\n",
        "    A_pprice =input(\"Enter the product price \")\n",
        "    A_pcategory = input(\"Enter the product category \")\n",
        "    A_quantity = input(\"Enter the product quantity \")\n",
        "    A_pcompany = input(\"Enter the product company \")\n",
        "\n",
        "    record1[A_pid] = { \"P_name\" : A_pname , \"P_price\" : A_pprice , \"P_category\" : A_pcategory , \"P_quantity\" : A_quantity  ,  \"P_company\" : A_pcompany  } \n",
        "\n",
        "    print(\"New product added successfully....\\n\")\n",
        "\n",
        "  elif (A_A == 3): \n",
        "    print (\"************DELETING THE PRODUCT**********\\n\")\n",
        "      \n",
        "    A_id = input(\"Enter the product id to delete \")\n",
        "\n",
        "    record1.pop(A_id) \n",
        "      \n",
        "    print(\"Product deleted successfully....\\n\")\n",
        "\n",
        "  else:\n",
        "    print (\"Enter the valid choice\") \n",
        "\n",
        "\n",
        "\n",
        "elif (A_C == 2):\n",
        "  i= 1\n",
        "  while i != 0 :\n",
        "   print(\"**************** Menu ********************\\n\")  \n",
        "   print(\" Product no.  Product Name   Product Price \\n\")\n",
        "   print  (      \"   1813001    Potato chips   10 \\n\"   \n",
        "              \"   1813002    Kurkure        10 \\n\" \n",
        "              \"   1813003    Chilli chips   10 \\n \"    \n",
        "              \"  1813004    Bhujia sev     10\\n \"   \n",
        "              \"  1813005    Moong Dal      10\\n \"  \n",
        "              \"  1813006    Soya stickes   10\\n \"    \n",
        "              \"  1813007    Bhel puri      10\\n \"   \n",
        "              \"  1813008    Sweet wonder   30\\n \"  \n",
        "              \"  1813009    Mini samosa    80\\n \"  \n",
        "              \"  1813010    Banana chips   10\\n \"  \n",
        "              \"  1813011    Masala kaju    30\\n \"  \n",
        "              \"  1813012    Chana choor    100\\n \"  \n",
        "              \"  1813013    Chakali        100\\n \"  \n",
        "              \"  1813014    Gathiya        120\\n \"  \n",
        "              \"  1813015    Punjabi tadka  140\\n \"  \n",
        "              \"  1813016    Kaju katli     210\\n \"  \n",
        "              \"  1813017    Lemon bhel     10 \\n\"   \n",
        "              \"   1813018    Orange barfi   410\\n \"  \n",
        "              \"  1813019    Soam papdi     110\\n \"  \n",
        "              \"  1813020    Bharkarwadi    10\\n \"  \n",
        "              \"  1813021    Matri          90\\n \"  \n",
        "              \"  1813022    Namkeen        10  \")\n",
        "   print (\"\\n\")\n",
        "   print(\"*********ORDER*********\\n\")\n",
        "   order_no = int (input(\"Enter the order (product no.) : \"))\n",
        "   o_quantity = int (input(\"Enter the quantity of product : \"))\n",
        "   cname = input(\"Enter your name : \")\n",
        "\n",
        "   record1[str(order_no)][\"P_quantity\"] = record1[str(order_no)][\"P_quantity\"] - o_quantity\n",
        "\n",
        "   import time\n",
        "  \n",
        "   s = cname +\"   \"+ str(o_quantity)  +\"   \"+ str(order_no) +\"   \"+ str(time.ctime()) +\"  \"+ \"\\n\"\n",
        "   fdw = open(\"sell.json\" , 'a')\n",
        "   fdw.write(s)\n",
        "   fdw.close()\n",
        "   \n",
        "   print(\"\\n*************************************************\\n\")\n",
        "   print(\"*********BILL********\\n\")\n",
        "   print(\"Customer Name : \" + \" \"+ cname)\n",
        "   print(\"\\n\")\n",
        "   print(\"Product Order Name : \"+ \" \"+ record1[str(order_no)][\"P_name\"])\n",
        "   print(\"\\n\")\n",
        "   print(\"Product Id : \" +\" \"+  str(order_no))\n",
        "   print(\"\\n\")\n",
        "   print(\"Quantity : \" +\" \"+ str(o_quantity))\n",
        "   print(\"\\n\")\n",
        "\n",
        "   print(\"Billing amount : \" +\"    \"+str(record1[str(order_no)][\"P_price\"] * o_quantity ))\n",
        "   print(\"\\n\")\n",
        "   print(\"***************** Thanks for ordering stay home stay safe :-) ***********\")\n",
        "   print(\"\\n\")\n",
        "   i = int(input(\"For ordering more product Enter 1 else 0\"))\n",
        "   \n",
        "   \n",
        "\n",
        "else :\n",
        "  print (\"Enter the valid choice\")   "
      ],
      "execution_count": 68,
      "outputs": [
        {
          "output_type": "stream",
          "name": "stdout",
          "text": [
            "**************************** WELCOME TO INVENTORY MANAGEMENT SYSTEM ****************************\n",
            "\n",
            " 1. ADMIN\n",
            " 2. CUSTOMER\n",
            "\n",
            "Enter the choice 1\n",
            "\n",
            "\n",
            " 1. Display sells list\n",
            " 2. Add new product\n",
            " 3. Delete product\n",
            "\n",
            "Enter the choice 1\n",
            "\n",
            "\n",
            "Prajakta Mishra   1   1813006   Thu Sep  2 11:40:01 2021  \n",
            "Priya Kapoor   2   1813010   Thu Sep  2 11:44:10 2021  \n",
            "Sakashi Gupta   3   1813002   Thu Sep  2 11:44:43 2021  \n",
            "\n"
          ]
        }
      ]
    },
    {
      "cell_type": "code",
      "metadata": {
        "colab": {
          "base_uri": "https://localhost:8080/"
        },
        "id": "hnSM1JLVBW-H",
        "outputId": "d66d167d-5db4-4df1-fe29-344daee2681d"
      },
      "source": [
        "record1"
      ],
      "execution_count": 71,
      "outputs": [
        {
          "output_type": "execute_result",
          "data": {
            "text/plain": [
              "{'1813001': {'P_category': 'Snacks',\n",
              "  'P_company': 'ajit bakery',\n",
              "  'P_name': 'Potato chips',\n",
              "  'P_price': 10,\n",
              "  'P_quantity': 28},\n",
              " '1813002': {'P_category': 'Snacks',\n",
              "  'P_company': 'ajit bakery',\n",
              "  'P_name': 'Kurkure',\n",
              "  'P_price': 10,\n",
              "  'P_quantity': 57},\n",
              " '1813003': {'P_category': 'Snacks',\n",
              "  'P_company': 'Balaji',\n",
              "  'P_name': 'Chilli chips',\n",
              "  'P_price': 10,\n",
              "  'P_quantity': 37},\n",
              " '1813005': {'P_category': 'Snacks',\n",
              "  'P_company': 'Haldirams   ',\n",
              "  'P_name': 'Moong Dal',\n",
              "  'P_price': 10,\n",
              "  'P_quantity': 99},\n",
              " '1813006': {'P_category': 'Snacks',\n",
              "  'P_company': 'ajit bakery ',\n",
              "  'P_name': 'Soya stickes',\n",
              "  'P_price': 10,\n",
              "  'P_quantity': 89},\n",
              " '1813007': {'P_category': 'Snacks',\n",
              "  'P_company': 'Balaji ',\n",
              "  'P_name': 'Bhel puri',\n",
              "  'P_price': 10,\n",
              "  'P_quantity': 10},\n",
              " '1813008': {'P_category': 'Snacks',\n",
              "  'P_company': 'Haldirams',\n",
              "  'P_name': 'Sweet wonder',\n",
              "  'P_price': 30,\n",
              "  'P_quantity': 40},\n",
              " '1813009': {'P_category': 'Snacks',\n",
              "  'P_company': 'ajit bakery',\n",
              "  'P_name': 'Mini samosa ',\n",
              "  'P_price': 80,\n",
              "  'P_quantity': 59},\n",
              " '1813010': {'P_category': 'Snacks',\n",
              "  'P_company': 'Haldirams',\n",
              "  'P_name': 'Banana chips',\n",
              "  'P_price': 10,\n",
              "  'P_quantity': 128},\n",
              " '1813011': {'P_category': 'Snacks',\n",
              "  'P_company': 'Balaji',\n",
              "  'P_name': 'Masala kaju',\n",
              "  'P_price': 30,\n",
              "  'P_quantity': 30},\n",
              " '1813012': {'P_category': 'Snacks',\n",
              "  'P_company': 'Haldirams',\n",
              "  'P_name': 'Chana choor',\n",
              "  'P_price': 10,\n",
              "  'P_quantity': 20},\n",
              " '1813013': {'P_category': 'Snacks',\n",
              "  'P_company': 'Haldirams',\n",
              "  'P_name': 'Chakali',\n",
              "  'P_price': 100,\n",
              "  'P_quantity': 9},\n",
              " '1813014': {'P_category': 'Snacks',\n",
              "  'P_company': 'Balaji ',\n",
              "  'P_name': 'Gathiya',\n",
              "  'P_price': 120,\n",
              "  'P_quantity': 40},\n",
              " '1813015': {'P_category': 'Snacks',\n",
              "  'P_company': 'Haldirams',\n",
              "  'P_name': 'Punjabi tadka ',\n",
              "  'P_price': 140,\n",
              "  'P_quantity': 70},\n",
              " '1813016': {'P_category': 'Sweets',\n",
              "  'P_company': 'ajit bakery',\n",
              "  'P_name': 'Kaju katli ',\n",
              "  'P_price': 210,\n",
              "  'P_quantity': 20},\n",
              " '1813017': {'P_category': 'Snacks',\n",
              "  'P_company': 'Balaji',\n",
              "  'P_name': 'Lemon bhel',\n",
              "  'P_price': 10,\n",
              "  'P_quantity': 10},\n",
              " '1813018': {'P_category': 'Sweets',\n",
              "  'P_company': 'Haldirams',\n",
              "  'P_name': 'Orange barfi',\n",
              "  'P_price': 410,\n",
              "  'P_quantity': 78},\n",
              " '1813019': {'P_category': 'Sweets',\n",
              "  'P_company': 'Haldirams ',\n",
              "  'P_name': 'Soam papdi',\n",
              "  'P_price': 110,\n",
              "  'P_quantity': 190},\n",
              " '1813020': {'P_category': 'Snacks',\n",
              "  'P_company': 'Balaji',\n",
              "  'P_name': 'Bharkarwadi',\n",
              "  'P_price': 10,\n",
              "  'P_quantity': 80},\n",
              " '1813021': {'P_category': 'Sweets',\n",
              "  'P_company': 'Haldirams',\n",
              "  'P_name': 'Matri',\n",
              "  'P_price': 90,\n",
              "  'P_quantity': 10},\n",
              " '1813022': {'P_category': 'Snacks',\n",
              "  'P_company': 'ajit bakery',\n",
              "  'P_name': 'Namkeen',\n",
              "  'P_price': 10,\n",
              "  'P_quantity': 20},\n",
              " '1813023': {'P_category': 'sweets',\n",
              "  'P_company': 'cadbury',\n",
              "  'P_name': 'kit kat',\n",
              "  'P_price': '30',\n",
              "  'P_quantity': '20'}}"
            ]
          },
          "metadata": {},
          "execution_count": 71
        }
      ]
    }
  ]
}